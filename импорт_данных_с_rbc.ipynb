{
  "nbformat": 4,
  "nbformat_minor": 0,
  "metadata": {
    "colab": {
      "name": "импорт данных с rbc.ipynb",
      "version": "0.3.2",
      "provenance": [],
      "include_colab_link": true
    },
    "kernelspec": {
      "name": "python3",
      "display_name": "Python 3"
    }
  },
  "cells": [
    {
      "cell_type": "markdown",
      "metadata": {
        "id": "view-in-github",
        "colab_type": "text"
      },
      "source": [
        "<a href=\"https://colab.research.google.com/github/prog815/lernPython/blob/master/%D0%B8%D0%BC%D0%BF%D0%BE%D1%80%D1%82_%D0%B4%D0%B0%D0%BD%D0%BD%D1%8B%D1%85_%D1%81_rbc.ipynb\" target=\"_parent\"><img src=\"https://colab.research.google.com/assets/colab-badge.svg\" alt=\"Open In Colab\"/></a>"
      ]
    },
    {
      "cell_type": "markdown",
      "metadata": {
        "id": "ICH3ABM_ZOpY",
        "colab_type": "text"
      },
      "source": [
        "# Ипортируем данные с РБЦ"
      ]
    },
    {
      "cell_type": "markdown",
      "metadata": {
        "id": "6x1qyK3ia7uU",
        "colab_type": "text"
      },
      "source": [
        "## адрес импорта"
      ]
    },
    {
      "cell_type": "code",
      "metadata": {
        "id": "HR4ueKXKVM9g",
        "colab_type": "code",
        "outputId": "56900ea6-4d6a-47da-c56e-73b456fa01e8",
        "colab": {
          "base_uri": "https://localhost:8080/",
          "height": 34
        }
      },
      "source": [
        "days=10\n",
        "url='http://export.rbc.ru/free/micex.0/free.fcgi?period=DAILY&tickers=NULL&lastdays='+str(days)+'&separator=%3B&data_format=EXCEL&header=1'\n",
        "url"
      ],
      "execution_count": 0,
      "outputs": [
        {
          "output_type": "execute_result",
          "data": {
            "text/plain": [
              "'http://export.rbc.ru/free/micex.0/free.fcgi?period=DAILY&tickers=NULL&lastdays=10&separator=%3B&data_format=EXCEL&header=1'"
            ]
          },
          "metadata": {
            "tags": []
          },
          "execution_count": 13
        }
      ]
    },
    {
      "cell_type": "markdown",
      "metadata": {
        "id": "9Utyx9xOaf9x",
        "colab_type": "text"
      },
      "source": [
        "## загружаем данные"
      ]
    },
    {
      "cell_type": "code",
      "metadata": {
        "id": "aYmkc6yDW25j",
        "colab_type": "code",
        "colab": {}
      },
      "source": [
        "import pandas as pd\n",
        "data_csv=pd.read_csv(url,sep=';')"
      ],
      "execution_count": 0,
      "outputs": []
    },
    {
      "cell_type": "code",
      "metadata": {
        "id": "1aDYjdZsXAoW",
        "colab_type": "code",
        "outputId": "caef4b1b-1e5b-4b14-c395-d09cd43bf2de",
        "colab": {
          "base_uri": "https://localhost:8080/",
          "height": 34
        }
      },
      "source": [
        "data_csv.shape"
      ],
      "execution_count": 0,
      "outputs": [
        {
          "output_type": "execute_result",
          "data": {
            "text/plain": [
              "(2166, 8)"
            ]
          },
          "metadata": {
            "tags": []
          },
          "execution_count": 7
        }
      ]
    },
    {
      "cell_type": "markdown",
      "metadata": {
        "id": "72cEhX66a0Q2",
        "colab_type": "text"
      },
      "source": [
        "## смотрим на результаты"
      ]
    },
    {
      "cell_type": "code",
      "metadata": {
        "id": "Vmy0OfrsXRG5",
        "colab_type": "code",
        "outputId": "0954145d-f489-436a-cd02-6c1925dcdb43",
        "colab": {
          "base_uri": "https://localhost:8080/",
          "height": 639
        }
      },
      "source": [
        "data_csv.head(20)"
      ],
      "execution_count": 0,
      "outputs": [
        {
          "output_type": "execute_result",
          "data": {
            "text/html": [
              "<div>\n",
              "<style scoped>\n",
              "    .dataframe tbody tr th:only-of-type {\n",
              "        vertical-align: middle;\n",
              "    }\n",
              "\n",
              "    .dataframe tbody tr th {\n",
              "        vertical-align: top;\n",
              "    }\n",
              "\n",
              "    .dataframe thead th {\n",
              "        text-align: right;\n",
              "    }\n",
              "</style>\n",
              "<table border=\"1\" class=\"dataframe\">\n",
              "  <thead>\n",
              "    <tr style=\"text-align: right;\">\n",
              "      <th></th>\n",
              "      <th>TICKER</th>\n",
              "      <th>DATE</th>\n",
              "      <th>OPEN</th>\n",
              "      <th>HIGH</th>\n",
              "      <th>LOW</th>\n",
              "      <th>CLOSE</th>\n",
              "      <th>VOL</th>\n",
              "      <th>WAPRICE</th>\n",
              "    </tr>\n",
              "  </thead>\n",
              "  <tbody>\n",
              "    <tr>\n",
              "      <th>0</th>\n",
              "      <td>ABRD</td>\n",
              "      <td>2019-07-25</td>\n",
              "      <td>136.500</td>\n",
              "      <td>139.000</td>\n",
              "      <td>136.0000</td>\n",
              "      <td>138.000</td>\n",
              "      <td>2780.0</td>\n",
              "      <td>137.0000</td>\n",
              "    </tr>\n",
              "    <tr>\n",
              "      <th>1</th>\n",
              "      <td>ACKO</td>\n",
              "      <td>2019-07-25</td>\n",
              "      <td>5.200</td>\n",
              "      <td>5.340</td>\n",
              "      <td>5.2000</td>\n",
              "      <td>5.200</td>\n",
              "      <td>19000.0</td>\n",
              "      <td>5.2800</td>\n",
              "    </tr>\n",
              "    <tr>\n",
              "      <th>2</th>\n",
              "      <td>AFKS</td>\n",
              "      <td>2019-07-25</td>\n",
              "      <td>11.875</td>\n",
              "      <td>11.875</td>\n",
              "      <td>11.6550</td>\n",
              "      <td>11.695</td>\n",
              "      <td>6034100.0</td>\n",
              "      <td>11.7000</td>\n",
              "    </tr>\n",
              "    <tr>\n",
              "      <th>3</th>\n",
              "      <td>AFLT</td>\n",
              "      <td>2019-07-25</td>\n",
              "      <td>107.300</td>\n",
              "      <td>108.360</td>\n",
              "      <td>105.6800</td>\n",
              "      <td>107.500</td>\n",
              "      <td>3423480.0</td>\n",
              "      <td>107.3800</td>\n",
              "    </tr>\n",
              "    <tr>\n",
              "      <th>4</th>\n",
              "      <td>AGRO</td>\n",
              "      <td>2019-07-25</td>\n",
              "      <td>738.800</td>\n",
              "      <td>745.000</td>\n",
              "      <td>735.6000</td>\n",
              "      <td>741.000</td>\n",
              "      <td>5499.0</td>\n",
              "      <td>742.0000</td>\n",
              "    </tr>\n",
              "    <tr>\n",
              "      <th>5</th>\n",
              "      <td>AKRN</td>\n",
              "      <td>2019-07-25</td>\n",
              "      <td>4630.000</td>\n",
              "      <td>4630.000</td>\n",
              "      <td>4622.0000</td>\n",
              "      <td>4624.000</td>\n",
              "      <td>859.0</td>\n",
              "      <td>4628.0000</td>\n",
              "    </tr>\n",
              "    <tr>\n",
              "      <th>6</th>\n",
              "      <td>ALBK</td>\n",
              "      <td>2019-07-25</td>\n",
              "      <td>73.000</td>\n",
              "      <td>73.000</td>\n",
              "      <td>70.0000</td>\n",
              "      <td>71.000</td>\n",
              "      <td>700.0</td>\n",
              "      <td>71.0000</td>\n",
              "    </tr>\n",
              "    <tr>\n",
              "      <th>7</th>\n",
              "      <td>ALNU</td>\n",
              "      <td>2019-07-25</td>\n",
              "      <td>79200.000</td>\n",
              "      <td>79400.000</td>\n",
              "      <td>76600.0000</td>\n",
              "      <td>78800.000</td>\n",
              "      <td>126.0</td>\n",
              "      <td>78200.0000</td>\n",
              "    </tr>\n",
              "    <tr>\n",
              "      <th>8</th>\n",
              "      <td>ALRS</td>\n",
              "      <td>2019-07-25</td>\n",
              "      <td>80.860</td>\n",
              "      <td>81.890</td>\n",
              "      <td>79.9200</td>\n",
              "      <td>81.300</td>\n",
              "      <td>15803740.0</td>\n",
              "      <td>80.9600</td>\n",
              "    </tr>\n",
              "    <tr>\n",
              "      <th>9</th>\n",
              "      <td>AMEZ</td>\n",
              "      <td>2019-07-25</td>\n",
              "      <td>4.420</td>\n",
              "      <td>4.420</td>\n",
              "      <td>4.2550</td>\n",
              "      <td>4.345</td>\n",
              "      <td>51900.0</td>\n",
              "      <td>4.3250</td>\n",
              "    </tr>\n",
              "    <tr>\n",
              "      <th>10</th>\n",
              "      <td>APTK</td>\n",
              "      <td>2019-07-25</td>\n",
              "      <td>10.751</td>\n",
              "      <td>12.130</td>\n",
              "      <td>10.7510</td>\n",
              "      <td>11.852</td>\n",
              "      <td>3030750.0</td>\n",
              "      <td>11.7640</td>\n",
              "    </tr>\n",
              "    <tr>\n",
              "      <th>11</th>\n",
              "      <td>AQUA</td>\n",
              "      <td>2019-07-25</td>\n",
              "      <td>243.500</td>\n",
              "      <td>252.500</td>\n",
              "      <td>232.5000</td>\n",
              "      <td>250.000</td>\n",
              "      <td>2570.0</td>\n",
              "      <td>245.5000</td>\n",
              "    </tr>\n",
              "    <tr>\n",
              "      <th>12</th>\n",
              "      <td>ARMD</td>\n",
              "      <td>2019-07-25</td>\n",
              "      <td>4.335</td>\n",
              "      <td>4.350</td>\n",
              "      <td>4.0650</td>\n",
              "      <td>4.130</td>\n",
              "      <td>120800.0</td>\n",
              "      <td>4.1350</td>\n",
              "    </tr>\n",
              "    <tr>\n",
              "      <th>13</th>\n",
              "      <td>ARSA</td>\n",
              "      <td>2019-07-25</td>\n",
              "      <td>3.040</td>\n",
              "      <td>3.040</td>\n",
              "      <td>3.0400</td>\n",
              "      <td>3.040</td>\n",
              "      <td>1000.0</td>\n",
              "      <td>3.0400</td>\n",
              "    </tr>\n",
              "    <tr>\n",
              "      <th>14</th>\n",
              "      <td>ASSB</td>\n",
              "      <td>2019-07-25</td>\n",
              "      <td>0.680</td>\n",
              "      <td>0.754</td>\n",
              "      <td>0.6645</td>\n",
              "      <td>0.686</td>\n",
              "      <td>2165000.0</td>\n",
              "      <td>0.7015</td>\n",
              "    </tr>\n",
              "    <tr>\n",
              "      <th>15</th>\n",
              "      <td>AVAN</td>\n",
              "      <td>2019-07-25</td>\n",
              "      <td>670.000</td>\n",
              "      <td>680.000</td>\n",
              "      <td>650.0000</td>\n",
              "      <td>650.000</td>\n",
              "      <td>80.0</td>\n",
              "      <td>670.0000</td>\n",
              "    </tr>\n",
              "    <tr>\n",
              "      <th>16</th>\n",
              "      <td>BANE</td>\n",
              "      <td>2019-07-25</td>\n",
              "      <td>1874.000</td>\n",
              "      <td>1878.500</td>\n",
              "      <td>1865.0000</td>\n",
              "      <td>1873.500</td>\n",
              "      <td>1920.0</td>\n",
              "      <td>1873.0000</td>\n",
              "    </tr>\n",
              "    <tr>\n",
              "      <th>17</th>\n",
              "      <td>BANEP</td>\n",
              "      <td>2019-07-25</td>\n",
              "      <td>1613.000</td>\n",
              "      <td>1613.000</td>\n",
              "      <td>1602.5000</td>\n",
              "      <td>1605.000</td>\n",
              "      <td>19587.0</td>\n",
              "      <td>1606.5000</td>\n",
              "    </tr>\n",
              "    <tr>\n",
              "      <th>18</th>\n",
              "      <td>BELU</td>\n",
              "      <td>2019-07-25</td>\n",
              "      <td>470.000</td>\n",
              "      <td>478.000</td>\n",
              "      <td>470.0000</td>\n",
              "      <td>477.000</td>\n",
              "      <td>32.0</td>\n",
              "      <td>472.0000</td>\n",
              "    </tr>\n",
              "    <tr>\n",
              "      <th>19</th>\n",
              "      <td>BISV</td>\n",
              "      <td>2019-07-25</td>\n",
              "      <td>NaN</td>\n",
              "      <td>NaN</td>\n",
              "      <td>NaN</td>\n",
              "      <td>NaN</td>\n",
              "      <td>NaN</td>\n",
              "      <td>NaN</td>\n",
              "    </tr>\n",
              "  </tbody>\n",
              "</table>\n",
              "</div>"
            ],
            "text/plain": [
              "   TICKER        DATE       OPEN  ...      CLOSE         VOL     WAPRICE\n",
              "0    ABRD  2019-07-25    136.500  ...    138.000      2780.0    137.0000\n",
              "1    ACKO  2019-07-25      5.200  ...      5.200     19000.0      5.2800\n",
              "2    AFKS  2019-07-25     11.875  ...     11.695   6034100.0     11.7000\n",
              "3    AFLT  2019-07-25    107.300  ...    107.500   3423480.0    107.3800\n",
              "4    AGRO  2019-07-25    738.800  ...    741.000      5499.0    742.0000\n",
              "5    AKRN  2019-07-25   4630.000  ...   4624.000       859.0   4628.0000\n",
              "6    ALBK  2019-07-25     73.000  ...     71.000       700.0     71.0000\n",
              "7    ALNU  2019-07-25  79200.000  ...  78800.000       126.0  78200.0000\n",
              "8    ALRS  2019-07-25     80.860  ...     81.300  15803740.0     80.9600\n",
              "9    AMEZ  2019-07-25      4.420  ...      4.345     51900.0      4.3250\n",
              "10   APTK  2019-07-25     10.751  ...     11.852   3030750.0     11.7640\n",
              "11   AQUA  2019-07-25    243.500  ...    250.000      2570.0    245.5000\n",
              "12   ARMD  2019-07-25      4.335  ...      4.130    120800.0      4.1350\n",
              "13   ARSA  2019-07-25      3.040  ...      3.040      1000.0      3.0400\n",
              "14   ASSB  2019-07-25      0.680  ...      0.686   2165000.0      0.7015\n",
              "15   AVAN  2019-07-25    670.000  ...    650.000        80.0    670.0000\n",
              "16   BANE  2019-07-25   1874.000  ...   1873.500      1920.0   1873.0000\n",
              "17  BANEP  2019-07-25   1613.000  ...   1605.000     19587.0   1606.5000\n",
              "18   BELU  2019-07-25    470.000  ...    477.000        32.0    472.0000\n",
              "19   BISV  2019-07-25        NaN  ...        NaN         NaN         NaN\n",
              "\n",
              "[20 rows x 8 columns]"
            ]
          },
          "metadata": {
            "tags": []
          },
          "execution_count": 11
        }
      ]
    },
    {
      "cell_type": "code",
      "metadata": {
        "id": "LT_a22SnYK7w",
        "colab_type": "code",
        "colab": {}
      },
      "source": [
        ""
      ],
      "execution_count": 0,
      "outputs": []
    }
  ]
}