{
  "nbformat": 4,
  "nbformat_minor": 0,
  "metadata": {
    "colab": {
      "name": "медиана.ipynb",
      "provenance": [],
      "authorship_tag": "ABX9TyORZaD3sh1KzlMhLGi62EK6",
      "include_colab_link": true
    },
    "kernelspec": {
      "name": "python3",
      "display_name": "Python 3"
    }
  },
  "cells": [
    {
      "cell_type": "markdown",
      "metadata": {
        "id": "view-in-github",
        "colab_type": "text"
      },
      "source": [
        "<a href=\"https://colab.research.google.com/github/prog815/lernPython/blob/master/%D0%BC%D0%B5%D0%B4%D0%B8%D0%B0%D0%BD%D0%B0.ipynb\" target=\"_parent\"><img src=\"https://colab.research.google.com/assets/colab-badge.svg\" alt=\"Open In Colab\"/></a>"
      ]
    },
    {
      "cell_type": "code",
      "metadata": {
        "id": "kaSWRQgwiyd7"
      },
      "source": [
        "import numpy as np\r\n",
        "import matplotlib.pyplot as plt\r\n"
      ],
      "execution_count": 91,
      "outputs": []
    },
    {
      "cell_type": "code",
      "metadata": {
        "colab": {
          "base_uri": "https://localhost:8080/"
        },
        "id": "7trUYYBfi63f",
        "outputId": "dcdf24e5-32b9-425f-9308-8bec051fd5a9"
      },
      "source": [
        "X = np.random.randn(11,2)\r\n",
        "X"
      ],
      "execution_count": 92,
      "outputs": [
        {
          "output_type": "execute_result",
          "data": {
            "text/plain": [
              "array([[-0.80138629,  0.38302073],\n",
              "       [-0.48258726,  0.62123603],\n",
              "       [ 0.05439902, -0.07761259],\n",
              "       [-1.26108311,  0.59473757],\n",
              "       [-0.014152  ,  1.3556014 ],\n",
              "       [ 0.54900132, -0.22338472],\n",
              "       [ 0.21323889,  0.18554689],\n",
              "       [-0.80145004,  1.12648791],\n",
              "       [-1.19902124,  1.21512378],\n",
              "       [-0.54970963,  1.08536946],\n",
              "       [ 0.26660527, -1.01440361]])"
            ]
          },
          "metadata": {
            "tags": []
          },
          "execution_count": 92
        }
      ]
    },
    {
      "cell_type": "code",
      "metadata": {
        "id": "CbsxCj6emffd"
      },
      "source": [
        "X[0] *= 20"
      ],
      "execution_count": 93,
      "outputs": []
    },
    {
      "cell_type": "code",
      "metadata": {
        "colab": {
          "base_uri": "https://localhost:8080/"
        },
        "id": "_ofRV9g7jKYu",
        "outputId": "f90807d3-7d31-4d88-e47f-5333624b0b73"
      },
      "source": [
        "md = np.median(X,axis=0)\r\n",
        "md"
      ],
      "execution_count": 94,
      "outputs": [
        {
          "output_type": "execute_result",
          "data": {
            "text/plain": [
              "array([-0.48258726,  0.62123603])"
            ]
          },
          "metadata": {
            "tags": []
          },
          "execution_count": 94
        }
      ]
    },
    {
      "cell_type": "code",
      "metadata": {
        "colab": {
          "base_uri": "https://localhost:8080/"
        },
        "id": "qJvXlDf7lh6E",
        "outputId": "2bb89caa-6782-415a-832c-d5ef4b05dede"
      },
      "source": [
        "avg = np.mean(X,axis=0)\r\n",
        "avg"
      ],
      "execution_count": 95,
      "outputs": [
        {
          "output_type": "execute_result",
          "data": {
            "text/plain": [
              "array([-1.75022588,  1.13901061])"
            ]
          },
          "metadata": {
            "tags": []
          },
          "execution_count": 95
        }
      ]
    },
    {
      "cell_type": "code",
      "metadata": {
        "colab": {
          "base_uri": "https://localhost:8080/",
          "height": 284
        },
        "id": "0RdO9-0TjSKW",
        "outputId": "96910bba-0fc5-4c59-fe83-07b75cca57cc"
      },
      "source": [
        "plt.scatter(X[:,0],X[:,1],marker='.',label='data')\r\n",
        "plt.scatter(md[0],md[1],marker='x',label='медиана')\r\n",
        "plt.scatter(avg[0],avg[1],marker='o',label='среднее')\r\n",
        "plt.grid()\r\n",
        "plt.legend(loc='best')"
      ],
      "execution_count": 97,
      "outputs": [
        {
          "output_type": "execute_result",
          "data": {
            "text/plain": [
              "<matplotlib.legend.Legend at 0x7f2ee5647b00>"
            ]
          },
          "metadata": {
            "tags": []
          },
          "execution_count": 97
        },
        {
          "output_type": "display_data",
          "data": {
            "image/png": "[encoded data removed]",
            "text/plain": [
              "<Figure size 432x288 with 1 Axes>"
            ]
          },
          "metadata": {
            "tags": [],
            "needs_background": "light"
          }
        }
      ]
    }
  ]
}