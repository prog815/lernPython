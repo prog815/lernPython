{
  "nbformat": 4,
  "nbformat_minor": 0,
  "metadata": {
    "colab": {
      "name": "медиана.ipynb",
      "provenance": [],
      "authorship_tag": "ABX9TyPYz2Q0Q5Gd2zKA4+Gnt6ro",
      "include_colab_link": true
    },
    "kernelspec": {
      "name": "python3",
      "display_name": "Python 3"
    }
  },
  "cells": [
    {
      "cell_type": "markdown",
      "metadata": {
        "id": "view-in-github",
        "colab_type": "text"
      },
      "source": [
        "<a href=\"https://colab.research.google.com/github/prog815/lernPython/blob/master/%D0%BC%D0%B5%D0%B4%D0%B8%D0%B0%D0%BD%D0%B0.ipynb\" target=\"_parent\"><img src=\"https://colab.research.google.com/assets/colab-badge.svg\" alt=\"Open In Colab\"/></a>"
      ]
    },
    {
      "cell_type": "code",
      "metadata": {
        "id": "kaSWRQgwiyd7"
      },
      "source": [
        "import numpy as np\r\n",
        "import matplotlib.pyplot as plt\r\n"
      ],
      "execution_count": 60,
      "outputs": []
    },
    {
      "cell_type": "code",
      "metadata": {
        "colab": {
          "base_uri": "https://localhost:8080/"
        },
        "id": "7trUYYBfi63f",
        "outputId": "3a056228-698c-4bd0-8ef8-82af6fc2892a"
      },
      "source": [
        "X = np.random.randn(10)\r\n",
        "X"
      ],
      "execution_count": 61,
      "outputs": [
        {
          "output_type": "execute_result",
          "data": {
            "text/plain": [
              "array([ 1.05149726,  2.46961936, -0.28331082,  0.34886642, -1.11158916,\n",
              "        0.58989737, -0.94939275,  0.15449004, -3.20795772,  0.63386409])"
            ]
          },
          "metadata": {
            "tags": []
          },
          "execution_count": 61
        }
      ]
    },
    {
      "cell_type": "code",
      "metadata": {
        "id": "CbsxCj6emffd"
      },
      "source": [
        "X[0] *= 10"
      ],
      "execution_count": 62,
      "outputs": []
    },
    {
      "cell_type": "code",
      "metadata": {
        "colab": {
          "base_uri": "https://localhost:8080/"
        },
        "id": "_ofRV9g7jKYu",
        "outputId": "483708a1-af12-47d0-b73f-b8d762bdd6c5"
      },
      "source": [
        "md = np.median(X)\r\n",
        "md"
      ],
      "execution_count": 63,
      "outputs": [
        {
          "output_type": "execute_result",
          "data": {
            "text/plain": [
              "0.2516782304167193"
            ]
          },
          "metadata": {
            "tags": []
          },
          "execution_count": 63
        }
      ]
    },
    {
      "cell_type": "code",
      "metadata": {
        "colab": {
          "base_uri": "https://localhost:8080/"
        },
        "id": "qJvXlDf7lh6E",
        "outputId": "5987eb64-a355-47f1-be11-c1da7f9894ba"
      },
      "source": [
        "avg = np.mean(X)\r\n",
        "avg"
      ],
      "execution_count": 64,
      "outputs": [
        {
          "output_type": "execute_result",
          "data": {
            "text/plain": [
              "0.9159459462505792"
            ]
          },
          "metadata": {
            "tags": []
          },
          "execution_count": 64
        }
      ]
    },
    {
      "cell_type": "code",
      "metadata": {
        "colab": {
          "base_uri": "https://localhost:8080/",
          "height": 282
        },
        "id": "0RdO9-0TjSKW",
        "outputId": "3abf5f1d-9448-45fe-a390-9eb486d1391f"
      },
      "source": [
        "plt.scatter(X,X*0,marker='.',label='data')\r\n",
        "plt.scatter(md,0,marker='x',label='медиана')\r\n",
        "plt.scatter(avg,0,marker='o',label='среднее')\r\n",
        "plt.grid()\r\n",
        "plt.legend()"
      ],
      "execution_count": 65,
      "outputs": [
        {
          "output_type": "execute_result",
          "data": {
            "text/plain": [
              "<matplotlib.legend.Legend at 0x7f2ee5f80320>"
            ]
          },
          "metadata": {
            "tags": []
          },
          "execution_count": 65
        },
        {
          "output_type": "display_data",
          "data": {
            "image/png": "[encoded data removed]",
            "text/plain": [
              "<Figure size 432x288 with 1 Axes>"
            ]
          },
          "metadata": {
            "tags": [],
            "needs_background": "light"
          }
        }
      ]
    }
  ]
}