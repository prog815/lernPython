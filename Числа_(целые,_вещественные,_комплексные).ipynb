{
  "nbformat": 4,
  "nbformat_minor": 0,
  "metadata": {
    "colab": {
      "name": "Числа (целые, вещественные, комплексные).ipynb",
      "version": "0.3.2",
      "provenance": [],
      "toc_visible": true,
      "include_colab_link": true
    },
    "kernelspec": {
      "name": "python3",
      "display_name": "Python 3"
    }
  },
  "cells": [
    {
      "cell_type": "markdown",
      "metadata": {
        "id": "view-in-github",
        "colab_type": "text"
      },
      "source": [
        "<a href=\"https://colab.research.google.com/github/prog815/lernPython/blob/master/%D0%A7%D0%B8%D1%81%D0%BB%D0%B0_(%D1%86%D0%B5%D0%BB%D1%8B%D0%B5%2C_%D0%B2%D0%B5%D1%89%D0%B5%D1%81%D1%82%D0%B2%D0%B5%D0%BD%D0%BD%D1%8B%D0%B5%2C_%D0%BA%D0%BE%D0%BC%D0%BF%D0%BB%D0%B5%D0%BA%D1%81%D0%BD%D1%8B%D0%B5).ipynb\" target=\"_parent\"><img src=\"https://colab.research.google.com/assets/colab-badge.svg\" alt=\"Open In Colab\"/></a>"
      ]
    },
    {
      "cell_type": "markdown",
      "metadata": {
        "id": "z-_z3FPwByfi",
        "colab_type": "text"
      },
      "source": [
        "# Числа: целые, вещественные, комплексные\n",
        "https://pythonworld.ru/tipy-dannyx-v-python/chisla-int-float-complex.html"
      ]
    },
    {
      "cell_type": "markdown",
      "metadata": {
        "id": "xExMNxmLBP8d",
        "colab_type": "text"
      },
      "source": [
        "## Целые числа (int)"
      ]
    },
    {
      "cell_type": "code",
      "metadata": {
        "id": "pz8e0cxnBGyy",
        "colab_type": "code",
        "outputId": "5d67579c-b0e8-4a37-9f1e-cc7138dd6919",
        "colab": {
          "base_uri": "https://localhost:8080/",
          "height": 34
        }
      },
      "source": [
        "255 + 34"
      ],
      "execution_count": 0,
      "outputs": [
        {
          "output_type": "execute_result",
          "data": {
            "text/plain": [
              "289"
            ]
          },
          "metadata": {
            "tags": []
          },
          "execution_count": 12
        }
      ]
    },
    {
      "cell_type": "code",
      "metadata": {
        "id": "FlY4w-aIBIf6",
        "colab_type": "code",
        "outputId": "d6042bcc-beaa-4cf6-9519-a8009e9d1e16",
        "colab": {
          "base_uri": "https://localhost:8080/",
          "height": 34
        }
      },
      "source": [
        "5 * 2"
      ],
      "execution_count": 0,
      "outputs": [
        {
          "output_type": "execute_result",
          "data": {
            "text/plain": [
              "10"
            ]
          },
          "metadata": {
            "tags": []
          },
          "execution_count": 13
        }
      ]
    },
    {
      "cell_type": "code",
      "metadata": {
        "id": "FjkCpI3GBghp",
        "colab_type": "code",
        "outputId": "7659b1b0-0a22-4f6d-c2c3-05b8e1cca540",
        "colab": {
          "base_uri": "https://localhost:8080/",
          "height": 34
        }
      },
      "source": [
        "20 / 3"
      ],
      "execution_count": 0,
      "outputs": [
        {
          "output_type": "execute_result",
          "data": {
            "text/plain": [
              "6.666666666666667"
            ]
          },
          "metadata": {
            "tags": []
          },
          "execution_count": 14
        }
      ]
    },
    {
      "cell_type": "code",
      "metadata": {
        "id": "944nu6vIBk16",
        "colab_type": "code",
        "outputId": "35754785-84cf-4002-e6d6-39533dfdea64",
        "colab": {
          "base_uri": "https://localhost:8080/",
          "height": 34
        }
      },
      "source": [
        "20 // 3"
      ],
      "execution_count": 0,
      "outputs": [
        {
          "output_type": "execute_result",
          "data": {
            "text/plain": [
              "6"
            ]
          },
          "metadata": {
            "tags": []
          },
          "execution_count": 15
        }
      ]
    },
    {
      "cell_type": "code",
      "metadata": {
        "id": "a3zIJszcBmi4",
        "colab_type": "code",
        "outputId": "65f85111-ba4b-4a70-b6c5-cb8f66a5097c",
        "colab": {
          "base_uri": "https://localhost:8080/",
          "height": 34
        }
      },
      "source": [
        "20 % 3"
      ],
      "execution_count": 0,
      "outputs": [
        {
          "output_type": "execute_result",
          "data": {
            "text/plain": [
              "2"
            ]
          },
          "metadata": {
            "tags": []
          },
          "execution_count": 16
        }
      ]
    },
    {
      "cell_type": "code",
      "metadata": {
        "id": "YEE38lydBoBY",
        "colab_type": "code",
        "outputId": "a69ec743-800d-41fb-ebef-3281353df5fb",
        "colab": {
          "base_uri": "https://localhost:8080/",
          "height": 34
        }
      },
      "source": [
        "3 ** 4"
      ],
      "execution_count": 0,
      "outputs": [
        {
          "output_type": "execute_result",
          "data": {
            "text/plain": [
              "81"
            ]
          },
          "metadata": {
            "tags": []
          },
          "execution_count": 17
        }
      ]
    },
    {
      "cell_type": "code",
      "metadata": {
        "id": "ECcdwxnPBrBA",
        "colab_type": "code",
        "outputId": "1f26f02a-7b25-47ff-f292-c4af3035ced7",
        "colab": {
          "base_uri": "https://localhost:8080/",
          "height": 34
        }
      },
      "source": [
        "pow(3, 4)"
      ],
      "execution_count": 0,
      "outputs": [
        {
          "output_type": "execute_result",
          "data": {
            "text/plain": [
              "81"
            ]
          },
          "metadata": {
            "tags": []
          },
          "execution_count": 18
        }
      ]
    },
    {
      "cell_type": "code",
      "metadata": {
        "id": "6SPrMY88BtJD",
        "colab_type": "code",
        "outputId": "36430381-8c9a-4f59-f428-ecb6ee3bef9f",
        "colab": {
          "base_uri": "https://localhost:8080/",
          "height": 34
        }
      },
      "source": [
        "pow(3, 4, 27)"
      ],
      "execution_count": 0,
      "outputs": [
        {
          "output_type": "execute_result",
          "data": {
            "text/plain": [
              "0"
            ]
          },
          "metadata": {
            "tags": []
          },
          "execution_count": 19
        }
      ]
    },
    {
      "cell_type": "code",
      "metadata": {
        "id": "zMVKy4xsBvDY",
        "colab_type": "code",
        "outputId": "39974d68-8abe-496d-ec5a-c3dac5c60275",
        "colab": {
          "base_uri": "https://localhost:8080/",
          "height": 34
        }
      },
      "source": [
        "3 ** 150"
      ],
      "execution_count": 0,
      "outputs": [
        {
          "output_type": "execute_result",
          "data": {
            "text/plain": [
              "369988485035126972924700782451696644186473100389722973815184405301748249"
            ]
          },
          "metadata": {
            "tags": []
          },
          "execution_count": 20
        }
      ]
    },
    {
      "cell_type": "markdown",
      "metadata": {
        "id": "wfEoDn4gDIWU",
        "colab_type": "text"
      },
      "source": [
        "### Дополнительные методы"
      ]
    },
    {
      "cell_type": "code",
      "metadata": {
        "id": "TlGurj9aCbfW",
        "colab_type": "code",
        "colab": {}
      },
      "source": [
        "n = -37"
      ],
      "execution_count": 0,
      "outputs": []
    },
    {
      "cell_type": "code",
      "metadata": {
        "id": "M5qYsOuNDBee",
        "colab_type": "code",
        "outputId": "87c71ee4-7df1-4cba-b405-35f210c78267",
        "colab": {
          "base_uri": "https://localhost:8080/",
          "height": 34
        }
      },
      "source": [
        "bin(n)"
      ],
      "execution_count": 0,
      "outputs": [
        {
          "output_type": "execute_result",
          "data": {
            "text/plain": [
              "'-0b100101'"
            ]
          },
          "metadata": {
            "tags": []
          },
          "execution_count": 22
        }
      ]
    },
    {
      "cell_type": "code",
      "metadata": {
        "id": "r9fYWaWWDBN9",
        "colab_type": "code",
        "outputId": "1174af17-5257-418f-cc5d-504b1c72b95c",
        "colab": {
          "base_uri": "https://localhost:8080/",
          "height": 34
        }
      },
      "source": [
        "n.bit_length()"
      ],
      "execution_count": 0,
      "outputs": [
        {
          "output_type": "execute_result",
          "data": {
            "text/plain": [
              "6"
            ]
          },
          "metadata": {
            "tags": []
          },
          "execution_count": 23
        }
      ]
    },
    {
      "cell_type": "code",
      "metadata": {
        "id": "0alsiXWSDBDJ",
        "colab_type": "code",
        "outputId": "c190a4bc-6600-4b96-8083-7d391eddb1c8",
        "colab": {
          "base_uri": "https://localhost:8080/",
          "height": 85
        }
      },
      "source": [
        "print((1024).to_bytes(2, byteorder='big'))\n",
        "print((1024).to_bytes(10, byteorder='big'))\n",
        "print((-1024).to_bytes(10, byteorder='big', signed=True))\n",
        "x = 1000\n",
        "print(x.to_bytes((x.bit_length() // 8) + 1, byteorder='little'))"
      ],
      "execution_count": 0,
      "outputs": [
        {
          "output_type": "stream",
          "text": [
            "b'\\x04\\x00'\n",
            "b'\\x00\\x00\\x00\\x00\\x00\\x00\\x00\\x00\\x04\\x00'\n",
            "b'\\xff\\xff\\xff\\xff\\xff\\xff\\xff\\xff\\xfc\\x00'\n",
            "b'\\xe8\\x03'\n"
          ],
          "name": "stdout"
        }
      ]
    },
    {
      "cell_type": "code",
      "metadata": {
        "id": "EbYEx-klDAnN",
        "colab_type": "code",
        "outputId": "908a8dc2-2468-4eee-f658-e4e83020d8de",
        "colab": {
          "base_uri": "https://localhost:8080/",
          "height": 102
        }
      },
      "source": [
        "print(int.from_bytes(b'\\x00\\x10', byteorder='big'))\n",
        "print(int.from_bytes(b'\\x00\\x10', byteorder='little'))\n",
        "print(int.from_bytes(b'\\xfc\\x00', byteorder='big', signed=True))\n",
        "print(int.from_bytes(b'\\xfc\\x00', byteorder='big', signed=False))\n",
        "print(int.from_bytes([255, 0, 0], byteorder='big'))"
      ],
      "execution_count": 0,
      "outputs": [
        {
          "output_type": "stream",
          "text": [
            "16\n",
            "4096\n",
            "-1024\n",
            "64512\n",
            "16711680\n"
          ],
          "name": "stdout"
        }
      ]
    },
    {
      "cell_type": "markdown",
      "metadata": {
        "id": "xgEdZxztFMKq",
        "colab_type": "text"
      },
      "source": [
        "## Системы счисления"
      ]
    },
    {
      "cell_type": "markdown",
      "metadata": {
        "id": "y1aHO0oXGHIQ",
        "colab_type": "text"
      },
      "source": [
        "Те, у кого в школе была информатика, знают, что числа могут быть представлены не только в десятичной системе счисления. К примеру, в компьютере используется двоичный код, и, к примеру, число 19 в двоичной системе счисления будет выглядеть как 10011. Также иногда нужно переводить числа из одной системы счисления в другую. Python для этого предоставляет несколько функций:\n",
        "\n",
        "int([object], [основание системы счисления]) - преобразование к целому числу в десятичной системе счисления. По умолчанию система счисления десятичная, но можно задать любое основание от 2 до 36 включительно.\n",
        "\n",
        "bin(x) - преобразование целого числа в двоичную строку.\n",
        "\n",
        "hex(х) - преобразование целого числа в шестнадцатеричную строку.\n",
        "\n",
        "oct(х) - преобразование целого числа в восьмеричную строку."
      ]
    },
    {
      "cell_type": "code",
      "metadata": {
        "id": "TckJVuGLEYpr",
        "colab_type": "code",
        "outputId": "357e3691-4af7-4717-82d9-9215668f048c",
        "colab": {
          "base_uri": "https://localhost:8080/",
          "height": 136
        }
      },
      "source": [
        "a = int('19') # Переводим строку в число\n",
        "#b = int('19.5')  # Строка не является целым числом\n",
        "\n",
        "c = int(19.5)  # Применённая к числу с плавающей точкой, отсекает дробную часть\n",
        "print(a, c)\n",
        "print(bin(19))\n",
        "print(oct(19))\n",
        "print(hex(19))\n",
        "print(0b10011)  # Так тоже можно записывать числовые константы\n",
        "print(int('10011', 2))\n",
        "print(int('0b10011', 2))"
      ],
      "execution_count": 0,
      "outputs": [
        {
          "output_type": "stream",
          "text": [
            "19 19\n",
            "0b10011\n",
            "0o23\n",
            "0x13\n",
            "19\n",
            "19\n",
            "19\n"
          ],
          "name": "stdout"
        }
      ]
    },
    {
      "cell_type": "markdown",
      "metadata": {
        "id": "snaInAQIGWl4",
        "colab_type": "text"
      },
      "source": [
        "## Вещественные числа (float)"
      ]
    },
    {
      "cell_type": "markdown",
      "metadata": {
        "id": "EOV3erXmGxp7",
        "colab_type": "text"
      },
      "source": [
        "Вещественные числа поддерживают те же операции, что и целые. Однако (из-за представления чисел в компьютере) вещественные числа неточны, и это может привести к ошибкам:"
      ]
    },
    {
      "cell_type": "code",
      "metadata": {
        "id": "3XGC4DiuFpVr",
        "colab_type": "code",
        "outputId": "01939e40-d7dc-43ef-bbe5-32dca4d9345b",
        "colab": {
          "base_uri": "https://localhost:8080/",
          "height": 34
        }
      },
      "source": [
        "0.1 + 0.1 + 0.1 + 0.1 + 0.1 + 0.1 + 0.1 + 0.1 + 0.1 + 0.1"
      ],
      "execution_count": 0,
      "outputs": [
        {
          "output_type": "execute_result",
          "data": {
            "text/plain": [
              "0.9999999999999999"
            ]
          },
          "metadata": {
            "tags": []
          },
          "execution_count": 32
        }
      ]
    },
    {
      "cell_type": "markdown",
      "metadata": {
        "id": "nOjSt8ciG1xm",
        "colab_type": "text"
      },
      "source": [
        "Для высокой точности используют другие объекты (например Decimal и Fraction)).\n",
        "\n",
        "Также вещественные числа не поддерживают длинную арифметику:"
      ]
    },
    {
      "cell_type": "code",
      "metadata": {
        "id": "yZXtjupvGisi",
        "colab_type": "code",
        "colab": {}
      },
      "source": [
        "a = 3 ** 1000"
      ],
      "execution_count": 0,
      "outputs": []
    },
    {
      "cell_type": "code",
      "metadata": {
        "id": "b8vAUVHrGrnK",
        "colab_type": "code",
        "outputId": "2b0ac5a8-2266-4aae-b83c-b92a9a851ef1",
        "colab": {
          "base_uri": "https://localhost:8080/",
          "height": 163
        }
      },
      "source": [
        "a + 0.1"
      ],
      "execution_count": 0,
      "outputs": [
        {
          "output_type": "error",
          "ename": "OverflowError",
          "evalue": "ignored",
          "traceback": [
            "\u001b[0;31m---------------------------------------------------------------------------\u001b[0m",
            "\u001b[0;31mOverflowError\u001b[0m                             Traceback (most recent call last)",
            "\u001b[0;32m<ipython-input-34-205f1f1d9d85>\u001b[0m in \u001b[0;36m<module>\u001b[0;34m()\u001b[0m\n\u001b[0;32m----> 1\u001b[0;31m \u001b[0ma\u001b[0m \u001b[0;34m+\u001b[0m \u001b[0;36m0.1\u001b[0m\u001b[0;34m\u001b[0m\u001b[0;34m\u001b[0m\u001b[0m\n\u001b[0m",
            "\u001b[0;31mOverflowError\u001b[0m: int too large to convert to float"
          ]
        }
      ]
    },
    {
      "cell_type": "markdown",
      "metadata": {
        "id": "B_XbVjrnG7Q3",
        "colab_type": "text"
      },
      "source": [
        "Простенькие примеры работы с числами:"
      ]
    },
    {
      "cell_type": "code",
      "metadata": {
        "id": "o9hIP6CPGta5",
        "colab_type": "code",
        "outputId": "f48b2779-e4b7-4ac2-f8fe-fd283bf3456e",
        "colab": {
          "base_uri": "https://localhost:8080/",
          "height": 68
        }
      },
      "source": [
        "c = 150\n",
        "d = 12.9\n",
        "print(c + d)\n",
        "p = abs(d - c)  # Модуль числа\n",
        "print(p)\n",
        "print(round(p))  # Округление"
      ],
      "execution_count": 0,
      "outputs": [
        {
          "output_type": "stream",
          "text": [
            "162.9\n",
            "137.1\n",
            "137\n"
          ],
          "name": "stdout"
        }
      ]
    },
    {
      "cell_type": "markdown",
      "metadata": {
        "id": "GfBzSmWRHQ7c",
        "colab_type": "text"
      },
      "source": [
        "### Дополнительные методы"
      ]
    },
    {
      "cell_type": "markdown",
      "metadata": {
        "id": "ghQ13IW8Hnse",
        "colab_type": "text"
      },
      "source": [
        "float.as_integer_ratio() - пара целых чисел, чьё отношение равно этому числу.\n",
        "\n",
        "float.is_integer() - является ли значение целым числом.\n",
        "\n",
        "float.hex() - переводит float в hex (шестнадцатеричную систему счисления).\n",
        "\n",
        "classmethod float.fromhex(s) - float из шестнадцатеричной строки."
      ]
    },
    {
      "cell_type": "code",
      "metadata": {
        "id": "E356gBKQHKtJ",
        "colab_type": "code",
        "outputId": "4d8f12d6-3dc3-4895-b6ca-7a0175b94f36",
        "colab": {
          "base_uri": "https://localhost:8080/",
          "height": 51
        }
      },
      "source": [
        "print((10.5).hex())\n",
        "print(float.fromhex('0x1.5000000000000p+3'))"
      ],
      "execution_count": 0,
      "outputs": [
        {
          "output_type": "stream",
          "text": [
            "0x1.5000000000000p+3\n",
            "10.5\n"
          ],
          "name": "stdout"
        }
      ]
    },
    {
      "cell_type": "code",
      "metadata": {
        "id": "X_JRUg-4HxBh",
        "colab_type": "code",
        "outputId": "dc864abd-587d-4a29-aa10-b8ee8abfc65b",
        "colab": {
          "base_uri": "https://localhost:8080/",
          "height": 34
        }
      },
      "source": [
        "2.3.as_integer_ratio()"
      ],
      "execution_count": 0,
      "outputs": [
        {
          "output_type": "execute_result",
          "data": {
            "text/plain": [
              "(2589569785738035, 1125899906842624)"
            ]
          },
          "metadata": {
            "tags": []
          },
          "execution_count": 37
        }
      ]
    },
    {
      "cell_type": "markdown",
      "metadata": {
        "id": "HBcrT4JwIBGp",
        "colab_type": "text"
      },
      "source": [
        "Помимо стандартных выражений для работы с числами (а в Python их не так уж и много), в составе Python есть несколько полезных модулей.\n",
        "\n",
        "Модуль math предоставляет более сложные математические функции."
      ]
    },
    {
      "cell_type": "code",
      "metadata": {
        "id": "eJ4jAgexH2CE",
        "colab_type": "code",
        "outputId": "6225511e-4e98-4d77-fa12-64874f22ae69",
        "colab": {
          "base_uri": "https://localhost:8080/",
          "height": 51
        }
      },
      "source": [
        "import math\n",
        "print(math.pi)\n",
        "print(math.sqrt(85))"
      ],
      "execution_count": 0,
      "outputs": [
        {
          "output_type": "stream",
          "text": [
            "3.141592653589793\n",
            "9.219544457292887\n"
          ],
          "name": "stdout"
        }
      ]
    },
    {
      "cell_type": "code",
      "metadata": {
        "id": "tpyOFw_rILav",
        "colab_type": "code",
        "outputId": "f4edfafa-382a-41ff-91fe-7aed588988c0",
        "colab": {
          "base_uri": "https://localhost:8080/",
          "height": 34
        }
      },
      "source": [
        "math.inf"
      ],
      "execution_count": 0,
      "outputs": [
        {
          "output_type": "execute_result",
          "data": {
            "text/plain": [
              "inf"
            ]
          },
          "metadata": {
            "tags": []
          },
          "execution_count": 41
        }
      ]
    },
    {
      "cell_type": "markdown",
      "metadata": {
        "id": "JFFDp_Z8Iydz",
        "colab_type": "text"
      },
      "source": [
        "Модуль random реализует генератор случайных чисел и функции случайного выбора."
      ]
    },
    {
      "cell_type": "code",
      "metadata": {
        "id": "yXiV51FgIWCa",
        "colab_type": "code",
        "outputId": "019febae-eb29-47ed-834e-1ed83d07790b",
        "colab": {
          "base_uri": "https://localhost:8080/",
          "height": 34
        }
      },
      "source": [
        "import random\n",
        "random.random()"
      ],
      "execution_count": 0,
      "outputs": [
        {
          "output_type": "execute_result",
          "data": {
            "text/plain": [
              "0.9499812098647176"
            ]
          },
          "metadata": {
            "tags": []
          },
          "execution_count": 43
        }
      ]
    },
    {
      "cell_type": "markdown",
      "metadata": {
        "id": "_x1MC5h1Ny-u",
        "colab_type": "text"
      },
      "source": [
        "## Комплексные числа (complex)"
      ]
    },
    {
      "cell_type": "code",
      "metadata": {
        "id": "FZpEsDpYNuWH",
        "colab_type": "code",
        "outputId": "ff3f4fb8-713e-4b4a-d64e-8a1f4bdc9780",
        "colab": {
          "base_uri": "https://localhost:8080/",
          "height": 204
        }
      },
      "source": [
        "x = complex(1, 2)\n",
        "print(x)\n",
        "y = complex(3, 4)\n",
        "print(y)\n",
        "z = x + y\n",
        "print(x)\n",
        "print(z)\n",
        "z = x * y\n",
        "print(z)\n",
        "z = x / y\n",
        "print(z)\n",
        "print(x.conjugate())  # Сопряжённое число\n",
        "print(x.imag)  # Мнимая часть\n",
        "print(x.real)  # Действительная часть\n",
        "#print(x > y)  # Комплексные числа нельзя сравнить\n",
        "\n",
        "print(x == y)  # Но можно проверить на равенство\n",
        "abs(3 + 4j)  # Модуль комплексного числа\n",
        "pow(3 + 4j, 2)  # Возведение в степень"
      ],
      "execution_count": 0,
      "outputs": [
        {
          "output_type": "stream",
          "text": [
            "(1+2j)\n",
            "(3+4j)\n",
            "(1+2j)\n",
            "(4+6j)\n",
            "(-5+10j)\n",
            "(0.44+0.08j)\n",
            "(1-2j)\n",
            "2.0\n",
            "1.0\n",
            "False\n"
          ],
          "name": "stdout"
        },
        {
          "output_type": "execute_result",
          "data": {
            "text/plain": [
              "(-7+24j)"
            ]
          },
          "metadata": {
            "tags": []
          },
          "execution_count": 44
        }
      ]
    },
    {
      "cell_type": "code",
      "metadata": {
        "id": "7L6bW1xIOasc",
        "colab_type": "code",
        "colab": {}
      },
      "source": [
        ""
      ],
      "execution_count": 0,
      "outputs": []
    }
  ]
}