{
  "nbformat": 4,
  "nbformat_minor": 0,
  "metadata": {
    "colab": {
      "name": "3.7 Задачи по материалам недели.ipynb",
      "version": "0.3.2",
      "provenance": [],
      "include_colab_link": true
    },
    "kernelspec": {
      "name": "python3",
      "display_name": "Python 3"
    }
  },
  "cells": [
    {
      "cell_type": "markdown",
      "metadata": {
        "id": "view-in-github",
        "colab_type": "text"
      },
      "source": [
        "<a href=\"https://colab.research.google.com/github/prog815/lernPython/blob/master/3_7_%D0%97%D0%B0%D0%B4%D0%B0%D1%87%D0%B8_%D0%BF%D0%BE_%D0%BC%D0%B0%D1%82%D0%B5%D1%80%D0%B8%D0%B0%D0%BB%D0%B0%D0%BC_%D0%BD%D0%B5%D0%B4%D0%B5%D0%BB%D0%B8.ipynb\" target=\"_parent\"><img src=\"https://colab.research.google.com/assets/colab-badge.svg\" alt=\"Open In Colab\"/></a>"
      ]
    },
    {
      "cell_type": "code",
      "metadata": {
        "id": "cz4H3nq7pew3",
        "colab_type": "code",
        "colab": {}
      },
      "source": [
        "exs = '''6\tВяххи\t159\n",
        "11\tФедотов\t172\n",
        "7\tБондарев\t158\n",
        "6\tЧайкина\t153\n",
        "'''"
      ],
      "execution_count": 0,
      "outputs": []
    },
    {
      "cell_type": "code",
      "metadata": {
        "id": "BAt3oRXApsoP",
        "colab_type": "code",
        "colab": {}
      },
      "source": [
        "with open('test.tsv','w') as f:\n",
        "  f.write(exs)"
      ],
      "execution_count": 0,
      "outputs": []
    },
    {
      "cell_type": "code",
      "metadata": {
        "id": "ktXqxFROp7lR",
        "colab_type": "code",
        "colab": {
          "base_uri": "https://localhost:8080/",
          "height": 204
        },
        "outputId": "4ea6b5a0-6cd0-4430-939e-15ca97594ca6"
      },
      "source": [
        "cnt = {}\n",
        "sm = {}\n",
        "\n",
        "with open('/content/dataset_3380_5.txt','r') as f:\n",
        "  for ln in f:\n",
        "    cl,fio,h = ln.strip().split()\n",
        "    cl = int(cl)\n",
        "    h = int(h)\n",
        "    cnt[cl] = cnt.get(cl,0) + 1\n",
        "    sm[cl] = sm.get(cl,0) + h\n",
        "\n",
        "for i in range(1,12):\n",
        "  res = cnt.get(i,0)\n",
        "  if res > 0:\n",
        "    res = sm[i] / cnt[i]\n",
        "  else:\n",
        "    res = '-'\n",
        "  print(i,res)"
      ],
      "execution_count": 7,
      "outputs": [
        {
          "output_type": "stream",
          "text": [
            "1 127.16666666666667\n",
            "2 129.3\n",
            "3 135.27272727272728\n",
            "4 140.125\n",
            "5 145.58333333333334\n",
            "6 152.33333333333334\n",
            "7 160.08333333333334\n",
            "8 165.22222222222223\n",
            "9 169.66666666666666\n",
            "10 171.4\n",
            "11 173.42857142857142\n"
          ],
          "name": "stdout"
        }
      ]
    },
    {
      "cell_type": "code",
      "metadata": {
        "id": "Bx97VWQAqfTm",
        "colab_type": "code",
        "colab": {}
      },
      "source": [
        ""
      ],
      "execution_count": 0,
      "outputs": []
    }
  ]
}